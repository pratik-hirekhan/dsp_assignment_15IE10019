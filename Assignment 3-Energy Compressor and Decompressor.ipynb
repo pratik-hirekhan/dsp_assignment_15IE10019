{
 "cells": [
  {
   "cell_type": "code",
   "execution_count": 10,
   "metadata": {
    "collapsed": true
   },
   "outputs": [],
   "source": [
    "import sys\n",
    "import cmath\n",
    "import math\n",
    "import numpy as np\n",
    "\n",
    "from __future__ import division\n",
    "import matplotlib.pyplot as plt\n",
    "from scipy.io import wavfile\n",
    "from scipy.fftpack import fft,ifft,dct,idct\n",
    "import pywt"
   ]
  },
  {
   "cell_type": "code",
   "execution_count": 11,
   "metadata": {
    "collapsed": true
   },
   "outputs": [],
   "source": [
    "#read the .wav audio file\n",
    "def audio_file_input():\n",
    "    fs, data = wavfile.read('cow_voice_audio.wav')\n",
    "    data = data[:fs]\n",
    "    return data\n",
    "\n",
    "   \n",
    "\n",
    "#Energy Compression and Decompression functions\n",
    "def energy_compressor(x,L,output_file_name):\n",
    "    N=x.shape[0]\n",
    "    b=32\n",
    "    M=N-L\n",
    "    X = dct(x,norm='ortho')\n",
    "    f=open(output_file_name,'w+')\n",
    "    f.write(\"%d\\n\" %N)\n",
    "    f.write(\"%d\\n\" %M)\n",
    "    for i in range(M):\n",
    "        f.write(\"%f\\n\" %X[i])\n",
    "    f.close()\n",
    "    \n",
    "def energy_decompressor(input_file_name):\n",
    "    f=open(input_file_name,\"r\")\n",
    "    contents=f.readlines()\n",
    "    N=int(contents[0].strip('\\n'))\n",
    "    M=int(contents[1].strip('\\n'))\n",
    "    contents=contents[2:]\n",
    "    array=[]\n",
    "    for i in contents:\n",
    "        array=np.append(array,float(i.strip('\\n')))\n",
    "    for i in range(M,N,1):\n",
    "        array=np.append(array,0)\n",
    "\n",
    "    xm = idct(array,norm=\"ortho\")\n",
    "    return xm\n",
    "\n",
    "def  RmDCT(X,L,N):\n",
    "    for i in range(N-L,N):\n",
    "        X[i]=0\n",
    "    return X "
   ]
  },
  {
   "cell_type": "code",
   "execution_count": 12,
   "metadata": {},
   "outputs": [
    {
     "name": "stdout",
     "output_type": "stream",
     "text": [
      "44100\n"
     ]
    },
    {
     "data": {
      "text/plain": [
       "array([ -1.31496618e-03,   3.94475890e-03,   9.93427666e-01, ...,\n",
       "         2.90004672e+02,   5.19997197e+02,   8.99000934e+02])"
      ]
     },
     "execution_count": 12,
     "metadata": {},
     "output_type": "execute_result"
    }
   ],
   "source": [
    "#main program\n",
    "\n",
    "input_data = audio_file_input()\n",
    "output_file_name = \"output_compressed.txt\"\n",
    "\n",
    "energy_compressor(input_data, 200, output_file_name)\n",
    "output = energy_decompressor(output_file_name)\n",
    "\n",
    "print(len(output))\n",
    "output"
   ]
  }
 ],
 "metadata": {
  "kernelspec": {
   "display_name": "Python 2",
   "language": "python",
   "name": "python2"
  },
  "language_info": {
   "codemirror_mode": {
    "name": "ipython",
    "version": 2
   },
   "file_extension": ".py",
   "mimetype": "text/x-python",
   "name": "python",
   "nbconvert_exporter": "python",
   "pygments_lexer": "ipython2",
   "version": "2.7.13"
  }
 },
 "nbformat": 4,
 "nbformat_minor": 2
}
